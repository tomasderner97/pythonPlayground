{
 "cells": [
  {
   "cell_type": "code",
   "execution_count": 74,
   "metadata": {},
   "outputs": [],
   "source": [
    "import sympy as sp\n",
    "from sympy import abc\n",
    "import matplotlib.pyplot as plt\n",
    "import numpy as np\n",
    "from ipywidgets import interact"
   ]
  },
  {
   "cell_type": "code",
   "execution_count": 55,
   "metadata": {},
   "outputs": [],
   "source": [
    "x = sp.Function(\"x\")(abc.t)\n",
    "E_0 = sp.Symbol(\"E_0\")\n",
    "omega_0 = sp.Symbol(\"omega_0\")\n",
    "\n",
    "lhs = sp.Derivative(x, abc.t, abc.t) + abc.gamma * sp.Derivative(x, abc.t) + omega_0**2 * x\n",
    "rhs = abc.q / abc.m * E_0 * sp.exp(-sp.I * (abc.omega * abc.t))\n",
    "eq = sp.Equality(lhs, rhs)"
   ]
  },
  {
   "cell_type": "code",
   "execution_count": 56,
   "metadata": {},
   "outputs": [
    {
     "data": {
      "text/latex": [
       "$\\displaystyle \\gamma \\frac{d}{d t} x{\\left(t \\right)} + \\omega_{0}^{2} x{\\left(t \\right)} + \\frac{d^{2}}{d t^{2}} x{\\left(t \\right)} = \\frac{E_{0} q e^{- i \\omega t}}{m}$"
      ],
      "text/plain": [
       "Eq(gamma*Derivative(x(t), t) + omega_0**2*x(t) + Derivative(x(t), (t, 2)), E_0*q*exp(-I*omega*t)/m)"
      ]
     },
     "execution_count": 56,
     "metadata": {},
     "output_type": "execute_result"
    }
   ],
   "source": [
    "eq"
   ]
  },
  {
   "cell_type": "code",
   "execution_count": 57,
   "metadata": {},
   "outputs": [],
   "source": [
    "sol = sp.dsolve(eq).subs({\"C1\": 0, \"C2\": 0})"
   ]
  },
  {
   "cell_type": "code",
   "execution_count": 58,
   "metadata": {},
   "outputs": [],
   "source": [
    "x = sol.rhs"
   ]
  },
  {
   "cell_type": "code",
   "execution_count": 59,
   "metadata": {},
   "outputs": [
    {
     "data": {
      "text/latex": [
       "$\\displaystyle - \\frac{E_{0} q e^{- i \\omega t}}{m \\left(i \\gamma \\omega + \\omega^{2} - \\omega_{0}^{2}\\right)}$"
      ],
      "text/plain": [
       "-E_0*q*exp(-I*omega*t)/(m*(I*gamma*omega + omega**2 - omega_0**2))"
      ]
     },
     "execution_count": 59,
     "metadata": {},
     "output_type": "execute_result"
    }
   ],
   "source": [
    "x.simplify() "
   ]
  },
  {
   "cell_type": "code",
   "execution_count": 83,
   "metadata": {},
   "outputs": [
    {
     "data": {
      "text/latex": [
       "$\\displaystyle - \\frac{e^{- i \\omega t}}{i \\gamma \\omega + \\omega^{2} - 400}$"
      ],
      "text/plain": [
       "-exp(-I*omega*t)/(I*gamma*omega + omega**2 - 400)"
      ]
     },
     "execution_count": 83,
     "metadata": {},
     "output_type": "execute_result"
    }
   ],
   "source": [
    "SUBS_MAP = {\n",
    "    \"E_0\": 1,\n",
    "    \"q\": 1,\n",
    "    \"m\": 1,\n",
    "#     \"omega\": 1,\n",
    "    \"omega_0\": 20,\n",
    "#     \"gamma\": 1,\n",
    "}\n",
    "x.subs(SUBS_MAP)"
   ]
  },
  {
   "cell_type": "code",
   "execution_count": 84,
   "metadata": {},
   "outputs": [],
   "source": [
    "x_t = sp.lambdify((abc.t, abc.omega, abc.gamma), x.subs(SUBS_MAP), \"numpy\")"
   ]
  },
  {
   "cell_type": "code",
   "execution_count": 85,
   "metadata": {},
   "outputs": [
    {
     "data": {
      "text/plain": [
       "<function _lambdifygenerated(t, omega, gamma)>"
      ]
     },
     "execution_count": 85,
     "metadata": {},
     "output_type": "execute_result"
    }
   ],
   "source": [
    "x_t"
   ]
  },
  {
   "cell_type": "code",
   "execution_count": 86,
   "metadata": {},
   "outputs": [],
   "source": [
    "ts = np.linspace(0, 10, 100)"
   ]
  },
  {
   "cell_type": "code",
   "execution_count": 87,
   "metadata": {},
   "outputs": [
    {
     "data": {
      "application/vnd.jupyter.widget-view+json": {
       "model_id": "4c4aa020e7a54144aea455e649d62bf8",
       "version_major": 2,
       "version_minor": 0
      },
      "text/plain": [
       "interactive(children=(FloatSlider(value=20.5, description='omega', max=40.0, min=1.0), FloatSlider(value=20.5,…"
      ]
     },
     "metadata": {},
     "output_type": "display_data"
    }
   ],
   "source": [
    "@interact(omega=(1., 40), gamma=(1., 40))\n",
    "def draw(omega, gamma):\n",
    "    plt.plot(ts, x_t(ts, omega, gamma))"
   ]
  },
  {
   "cell_type": "code",
   "execution_count": 88,
   "metadata": {},
   "outputs": [
    {
     "data": {
      "text/latex": [
       "$\\displaystyle x{\\left(t \\right)} = C_{1} e^{\\frac{t \\left(- \\gamma - \\sqrt{\\gamma^{2} - 4 \\omega_{0}^{2}}\\right)}{2}} + C_{2} e^{\\frac{t \\left(- \\gamma + \\sqrt{\\gamma^{2} - 4 \\omega_{0}^{2}}\\right)}{2}}$"
      ],
      "text/plain": [
       "Eq(x(t), C1*exp(t*(-gamma - sqrt(gamma**2 - 4*omega_0**2))/2) + C2*exp(t*(-gamma + sqrt(gamma**2 - 4*omega_0**2))/2))"
      ]
     },
     "execution_count": 88,
     "metadata": {},
     "output_type": "execute_result"
    }
   ],
   "source": [
    "sp.dsolve(lhs)"
   ]
  },
  {
   "cell_type": "code",
   "execution_count": null,
   "metadata": {},
   "outputs": [],
   "source": []
  }
 ],
 "metadata": {
  "kernelspec": {
   "display_name": "Python 3",
   "language": "python",
   "name": "python3"
  },
  "language_info": {
   "codemirror_mode": {
    "name": "ipython",
    "version": 3
   },
   "file_extension": ".py",
   "mimetype": "text/x-python",
   "name": "python",
   "nbconvert_exporter": "python",
   "pygments_lexer": "ipython3",
   "version": "3.7.3"
  }
 },
 "nbformat": 4,
 "nbformat_minor": 4
}
