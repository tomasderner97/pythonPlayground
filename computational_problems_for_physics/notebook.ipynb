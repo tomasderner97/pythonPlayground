{
 "cells": [
  {
   "cell_type": "code",
   "execution_count": 3,
   "metadata": {},
   "outputs": [],
   "source": [
    "%matplotlib inline"
   ]
  },
  {
   "cell_type": "code",
   "execution_count": 4,
   "metadata": {},
   "outputs": [
    {
     "data": {
      "text/html": [
       "<div id=\"glowscript\" class=\"glowscript\"></div>"
      ],
      "text/plain": [
       "<IPython.core.display.HTML object>"
      ]
     },
     "metadata": {},
     "output_type": "display_data"
    },
    {
     "data": {
      "application/javascript": [
       "if (typeof Jupyter !== \"undefined\") { window.__context = { glowscript_container: $(\"#glowscript\").removeAttr(\"id\")};}else{ element.textContent = ' ';}"
      ],
      "text/plain": [
       "<IPython.core.display.Javascript object>"
      ]
     },
     "metadata": {},
     "output_type": "display_data"
    },
    {
     "data": {
      "application/javascript": [
       "if (typeof Jupyter !== \"undefined\") {require.undef(\"nbextensions/vpython_libraries/glow.min\");}else{element.textContent = ' ';}"
      ],
      "text/plain": [
       "<IPython.core.display.Javascript object>"
      ]
     },
     "metadata": {},
     "output_type": "display_data"
    },
    {
     "data": {
      "application/javascript": [
       "if (typeof Jupyter !== \"undefined\") {require.undef(\"nbextensions/vpython_libraries/glowcomm\");}else{element.textContent = ' ';}"
      ],
      "text/plain": [
       "<IPython.core.display.Javascript object>"
      ]
     },
     "metadata": {},
     "output_type": "display_data"
    },
    {
     "data": {
      "application/javascript": [
       "if (typeof Jupyter !== \"undefined\") {require.undef(\"nbextensions/vpython_libraries/jquery-ui.custom.min\");}else{element.textContent = ' ';}"
      ],
      "text/plain": [
       "<IPython.core.display.Javascript object>"
      ]
     },
     "metadata": {},
     "output_type": "display_data"
    },
    {
     "data": {
      "application/javascript": [
       "if (typeof Jupyter !== \"undefined\") {require([\"nbextensions/vpython_libraries/glow.min\"], function(){console.log(\"GLOW LOADED\");});}else{element.textContent = ' ';}"
      ],
      "text/plain": [
       "<IPython.core.display.Javascript object>"
      ]
     },
     "metadata": {},
     "output_type": "display_data"
    },
    {
     "data": {
      "application/javascript": [
       "if (typeof Jupyter !== \"undefined\") {require([\"nbextensions/vpython_libraries/glowcomm\"], function(){console.log(\"GLOWCOMM LOADED\");});}else{element.textContent = ' ';}"
      ],
      "text/plain": [
       "<IPython.core.display.Javascript object>"
      ]
     },
     "metadata": {},
     "output_type": "display_data"
    },
    {
     "data": {
      "application/javascript": [
       "if (typeof Jupyter !== \"undefined\") {require([\"nbextensions/vpython_libraries/jquery-ui.custom.min\"], function(){console.log(\"JQUERY LOADED\");});}else{element.textContent = ' ';}"
      ],
      "text/plain": [
       "<IPython.core.display.Javascript object>"
      ]
     },
     "metadata": {},
     "output_type": "display_data"
    }
   ],
   "source": [
    "\"\"\" From \"COMPUTATIONAL PHYSICS\" & \"COMPUTER PROBLEMS in PHYSICS\"\n",
    "    by RH Landau, MJ Paez, and CC Bordeianu (deceased)\n",
    "    Copyright R Landau, Oregon State Unv, MJ Paez, Univ Antioquia, \n",
    "    C Bordeianu, Univ Bucharest, 2018. \n",
    "    Please respect copyright & acknowledge our work.\"\"\"\n",
    "\n",
    "# TwoForces.py Forces on two moving strings\n",
    "\n",
    "# from visual.graph import *\n",
    "from vpython import *\n",
    "\n",
    "posy = 100\n",
    "Lcord = 250  # basic height, cord length\n",
    "Hweight = 50\n",
    "W = 10   # cylinder height, weight\n",
    "\n",
    "scene = display(heigth=600, width=600, range=380)\n",
    "alt = curve(pos=[(-300, posy, 0), (300, posy, 0)])\n",
    "divi = curve(pos=[(0, -150, 0), (0, posy, 0)])\n",
    "kilogr = cylinder(pos=vector(0, posy - Lcord, 0), radius=20, axis=vector(0, -Hweight, 0),\n",
    "                  color=color.red)  # kg as a cylinder\n",
    "cord1 = cylinder(pos=vector(0, posy, 0), axis=vector(0, -Lcord, 0), color=color.yellow,\n",
    "                 radius=2)\n",
    "cord2 = cylinder(pos=vector(0, posy, 0), axis=vector(0, -Lcord, 0), color=color.yellow,\n",
    "                 radius=2)\n",
    "\n",
    "arrow1 = arrow(pos=vector(0, posy, 0), color=color.orange)  # Tension cord 1\n",
    "arrow2 = arrow(pos=vector(0, posy, 0), color=color.orange)  # Tension cord 2\n",
    "\n",
    "magF = W / 2.0          # initial force of each student\n",
    "v = 2.0               # (m/s) velocity of each student\n",
    "x1 = 0.0              # initial position student 1\n",
    "anglabel = label(pos=vector(0, 240, 0), text='angle (deg)', box=0)\n",
    "angultext = label(pos=vector(20, 210, 0), box=0)\n",
    "Flabel1 = label(pos=vector(200, 240, 0), text='Force', box=0)\n",
    "Ftext1 = label(pos=vector(200, 210, 0), box=0)\n",
    "Flabel2 = label(pos=vector(-200, 240, 0), text='Force', box=0)\n",
    "Ftext2 = label(pos=vector(-200, 210, 0), box=0)\n",
    "local_light(pos=vector(-10, 0, 20), color=color.yellow)   # light\n",
    "\n",
    "for t in arange(0., 100.0, 0.2):\n",
    "    rate(50)                  # slow motion\n",
    "    x1 = v * t                    # 1 to right, 2 to left\n",
    "    theta = asin(x1 / Lcord)      # angle cord\n",
    "    poscil = posy - Lcord * cos(theta)  # cylinder height\n",
    "    kilogr.pos = vector(0, poscil, 0)     # y-position kilogram\n",
    "    magF = W / (2. * cos(theta))      # Cord tension\n",
    "    angle = 180. * theta / pi\n",
    "    cord1.pos = vector(x1, posy, 0)       # position cord end\n",
    "    cord1.axis = vector(-Lcord * sin(theta), -Lcord * cos(theta), 0)\n",
    "    cord2.pos = vector(-x1, posy, 0)            # position end cord\n",
    "    cord2.axis = vector(Lcord * sin(theta), -Lcord * cos(theta), 0)\n",
    "    arrow1.pos = cord1.pos            # axis arrow\n",
    "    arrow1.axis = vector(8 * magF * sin(theta), 8 * magF * cos(theta), 0)\n",
    "    arrow2.pos = cord2.pos\n",
    "    arrow2.axis = vector(-8 * magF * sin(theta), 8 * magF * cos(theta), 0)\n",
    "    angultext.text = '%4.2f' % angle\n",
    "    force = magF\n",
    "    Ftext1.text = '%8.2f' % force     # Tension\n",
    "    Ftext2.text = '%8.2f' % force\n"
   ]
  },
  {
   "cell_type": "code",
   "execution_count": 1,
   "metadata": {},
   "outputs": [
    {
     "data": {
      "text/html": [
       "<div id=\"glowscript\" class=\"glowscript\"></div>"
      ],
      "text/plain": [
       "<IPython.core.display.HTML object>"
      ]
     },
     "metadata": {},
     "output_type": "display_data"
    },
    {
     "data": {
      "application/javascript": [
       "if (typeof Jupyter !== \"undefined\") { window.__context = { glowscript_container: $(\"#glowscript\").removeAttr(\"id\")};}else{ element.textContent = ' ';}"
      ],
      "text/plain": [
       "<IPython.core.display.Javascript object>"
      ]
     },
     "metadata": {},
     "output_type": "display_data"
    },
    {
     "data": {
      "application/javascript": [
       "if (typeof Jupyter !== \"undefined\") {require.undef(\"nbextensions/vpython_libraries/glow.min\");}else{element.textContent = ' ';}"
      ],
      "text/plain": [
       "<IPython.core.display.Javascript object>"
      ]
     },
     "metadata": {},
     "output_type": "display_data"
    },
    {
     "data": {
      "application/javascript": [
       "if (typeof Jupyter !== \"undefined\") {require.undef(\"nbextensions/vpython_libraries/glowcomm\");}else{element.textContent = ' ';}"
      ],
      "text/plain": [
       "<IPython.core.display.Javascript object>"
      ]
     },
     "metadata": {},
     "output_type": "display_data"
    },
    {
     "data": {
      "application/javascript": [
       "if (typeof Jupyter !== \"undefined\") {require.undef(\"nbextensions/vpython_libraries/jquery-ui.custom.min\");}else{element.textContent = ' ';}"
      ],
      "text/plain": [
       "<IPython.core.display.Javascript object>"
      ]
     },
     "metadata": {},
     "output_type": "display_data"
    },
    {
     "data": {
      "application/javascript": [
       "if (typeof Jupyter !== \"undefined\") {require([\"nbextensions/vpython_libraries/glow.min\"], function(){console.log(\"GLOW LOADED\");});}else{element.textContent = ' ';}"
      ],
      "text/plain": [
       "<IPython.core.display.Javascript object>"
      ]
     },
     "metadata": {},
     "output_type": "display_data"
    },
    {
     "data": {
      "application/javascript": [
       "if (typeof Jupyter !== \"undefined\") {require([\"nbextensions/vpython_libraries/glowcomm\"], function(){console.log(\"GLOWCOMM LOADED\");});}else{element.textContent = ' ';}"
      ],
      "text/plain": [
       "<IPython.core.display.Javascript object>"
      ]
     },
     "metadata": {},
     "output_type": "display_data"
    },
    {
     "data": {
      "application/javascript": [
       "if (typeof Jupyter !== \"undefined\") {require([\"nbextensions/vpython_libraries/jquery-ui.custom.min\"], function(){console.log(\"JQUERY LOADED\");});}else{element.textContent = ' ';}"
      ],
      "text/plain": [
       "<IPython.core.display.Javascript object>"
      ]
     },
     "metadata": {},
     "output_type": "display_data"
    }
   ],
   "source": [
    "import vpython\n",
    "vpython.box()"
   ]
  },
  {
   "cell_type": "code",
   "execution_count": null,
   "metadata": {},
   "outputs": [],
   "source": []
  }
 ],
 "metadata": {
  "kernelspec": {
   "display_name": "Python 3",
   "language": "python",
   "name": "python3"
  },
  "language_info": {
   "codemirror_mode": {
    "name": "ipython",
    "version": 3
   },
   "file_extension": ".py",
   "mimetype": "text/x-python",
   "name": "python",
   "nbconvert_exporter": "python",
   "pygments_lexer": "ipython3",
   "version": "3.7.3"
  },
  "toc": {
   "base_numbering": 1,
   "nav_menu": {},
   "number_sections": true,
   "sideBar": true,
   "skip_h1_title": false,
   "title_cell": "Table of Contents",
   "title_sidebar": "Contents",
   "toc_cell": false,
   "toc_position": {},
   "toc_section_display": true,
   "toc_window_display": false
  }
 },
 "nbformat": 4,
 "nbformat_minor": 2
}
